from google.colab import files

uploaded = files.upload()

import matplotlib.pyplot as plt
import pandas as pd

files = 'worst', 'average', 'best'

for filename in files:
  df = pd.read_csv(io.BytesIO(uploaded[f'{filename}Case.csv']))

  columns = 'bubble,insertion,heap,merge,radix'.split(',')

  for column in columns:
    plt.plot(df['tamanho'], df[column])

  plt.legend(columns)
  plt.xlabel('Tamanho')
  plt.ylabel('Contador')

  print(f'{filename} case')
  plt.show()
